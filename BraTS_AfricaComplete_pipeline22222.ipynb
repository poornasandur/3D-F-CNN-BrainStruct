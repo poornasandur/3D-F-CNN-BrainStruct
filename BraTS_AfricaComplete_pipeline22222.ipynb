{
  "cells": [
    {
      "cell_type": "markdown",
      "metadata": {
        "id": "view-in-github",
        "colab_type": "text"
      },
      "source": [
        "<a href=\"https://colab.research.google.com/github/poornasandur/3D-F-CNN-BrainStruct/blob/master/BraTS_AfricaComplete_pipeline22222.ipynb\" target=\"_parent\"><img src=\"https://colab.research.google.com/assets/colab-badge.svg\" alt=\"Open In Colab\"/></a>"
      ]
    },
    {
      "cell_type": "code",
      "execution_count": 11,
      "metadata": {
        "colab": {
          "base_uri": "https://localhost:8080/"
        },
        "id": "EznMh45Wl3Dt",
        "outputId": "2131edcf-3228-4ac0-8710-cc824b678115"
      },
      "outputs": [
        {
          "output_type": "stream",
          "name": "stdout",
          "text": [
            "Requirement already satisfied: monai in /usr/local/lib/python3.11/dist-packages (1.5.0)\n",
            "Requirement already satisfied: numpy<3.0,>=1.24 in /usr/local/lib/python3.11/dist-packages (from monai) (2.0.2)\n",
            "Requirement already satisfied: torch<2.7.0,>=2.4.1 in /usr/local/lib/python3.11/dist-packages (from monai) (2.6.0+cpu)\n",
            "Requirement already satisfied: filelock in /usr/local/lib/python3.11/dist-packages (from torch<2.7.0,>=2.4.1->monai) (3.18.0)\n",
            "Requirement already satisfied: typing-extensions>=4.10.0 in /usr/local/lib/python3.11/dist-packages (from torch<2.7.0,>=2.4.1->monai) (4.14.1)\n",
            "Requirement already satisfied: networkx in /usr/local/lib/python3.11/dist-packages (from torch<2.7.0,>=2.4.1->monai) (3.5)\n",
            "Requirement already satisfied: jinja2 in /usr/local/lib/python3.11/dist-packages (from torch<2.7.0,>=2.4.1->monai) (3.1.6)\n",
            "Requirement already satisfied: fsspec in /usr/local/lib/python3.11/dist-packages (from torch<2.7.0,>=2.4.1->monai) (2025.7.0)\n",
            "Requirement already satisfied: sympy==1.13.1 in /usr/local/lib/python3.11/dist-packages (from torch<2.7.0,>=2.4.1->monai) (1.13.1)\n",
            "Requirement already satisfied: mpmath<1.4,>=1.1.0 in /usr/local/lib/python3.11/dist-packages (from sympy==1.13.1->torch<2.7.0,>=2.4.1->monai) (1.3.0)\n",
            "Requirement already satisfied: MarkupSafe>=2.0 in /usr/local/lib/python3.11/dist-packages (from jinja2->torch<2.7.0,>=2.4.1->monai) (3.0.2)\n",
            "Requirement already satisfied: nibabel in /usr/local/lib/python3.11/dist-packages (5.3.2)\n",
            "Requirement already satisfied: importlib-resources>=5.12 in /usr/local/lib/python3.11/dist-packages (from nibabel) (6.5.2)\n",
            "Requirement already satisfied: numpy>=1.22 in /usr/local/lib/python3.11/dist-packages (from nibabel) (2.0.2)\n",
            "Requirement already satisfied: packaging>=20 in /usr/local/lib/python3.11/dist-packages (from nibabel) (25.0)\n",
            "Requirement already satisfied: typing-extensions>=4.6 in /usr/local/lib/python3.11/dist-packages (from nibabel) (4.14.1)\n"
          ]
        }
      ],
      "source": [
        "!pip install monai\n",
        "!pip install nibabel\n",
        "import torch\n",
        "import torch.nn as nn\n",
        "import torch.nn.functional as F\n",
        "from torch.utils.data import Dataset, DataLoader\n",
        "import numpy as np\n",
        "import nibabel as nib\n",
        "from sklearn.model_selection import train_test_split\n",
        "import os\n",
        "from tqdm import tqdm\n",
        "import monai\n",
        "from monai.losses import DiceLoss, DiceCELoss\n",
        "from glob import glob\n",
        "import json"
      ]
    },
    {
      "cell_type": "code",
      "source": [
        "from google.colab import drive\n",
        "drive.mount('/content/drive')"
      ],
      "metadata": {
        "colab": {
          "base_uri": "https://localhost:8080/"
        },
        "id": "jurNFV-sl8oy",
        "outputId": "63f947d7-723f-420a-85f1-993fde4c39ec"
      },
      "execution_count": 12,
      "outputs": [
        {
          "output_type": "stream",
          "name": "stdout",
          "text": [
            "Drive already mounted at /content/drive; to attempt to forcibly remount, call drive.mount(\"/content/drive\", force_remount=True).\n"
          ]
        }
      ]
    },
    {
      "cell_type": "code",
      "execution_count": 13,
      "metadata": {
        "id": "ziuGF70Al3Dw"
      },
      "outputs": [],
      "source": [
        "# Configuration\n",
        "class Config:\n",
        "    data_dir = '/content/drive/MyDrive/BraTS-Africa'  # Update with your path\n",
        "    batch_size = 2\n",
        "    learning_rate = 1e-4\n",
        "    epochs = 100\n",
        "    device = torch.device('cuda' if torch.cuda.is_available() else 'cpu')\n",
        "    num_classes = 4  # Background, ET, TC, WT\n",
        "    img_size = (128, 128, 128)  # Reduced size for memory efficiency\n",
        "\n",
        "    @classmethod\n",
        "    def get_serializable_config(cls):\n",
        "        return {\n",
        "            'data_dir': cls.data_dir,\n",
        "            'batch_size': cls.batch_size,\n",
        "            'learning_rate': cls.learning_rate,\n",
        "            'epochs': cls.epochs,\n",
        "            'device': str(cls.device),\n",
        "            'num_classes': cls.num_classes,\n",
        "            'img_size': list(cls.img_size)\n",
        "        }\n",
        "\n",
        "    @classmethod\n",
        "    def save(cls, path):\n",
        "        with open(path, 'w') as f:\n",
        "            json.dump(cls.get_serializable_config(), f, indent=4)\n",
        "\n",
        "    @classmethod\n",
        "    def load(cls, path):\n",
        "        with open(path, 'r') as f:\n",
        "            config = json.load(f)\n",
        "        cls.data_dir = config['data_dir']\n",
        "        cls.batch_size = config['batch_size']\n",
        "        cls.learning_rate = config['learning_rate']\n",
        "        cls.epochs = config['epochs']\n",
        "        cls.device = torch.device(config['device'])\n",
        "        cls.num_classes = config['num_classes']\n",
        "        cls.img_size = tuple(config['img_size'])"
      ]
    },
    {
      "cell_type": "code",
      "execution_count": 14,
      "metadata": {
        "id": "8DCjy4qpl3Dx"
      },
      "outputs": [],
      "source": [
        "class BraTSAfricaDataset(Dataset):\n",
        "    def __init__(self, patient_dirs, mode='train', transform=None):\n",
        "        self.patient_dirs = patient_dirs\n",
        "        self.mode = mode\n",
        "        self.transform = transform\n",
        "\n",
        "    def __len__(self):\n",
        "        return len(self.patient_dirs)\n",
        "\n",
        "    def __getitem__(self, idx):\n",
        "        patient_dir = self.patient_dirs[idx]\n",
        "        patient_id = os.path.basename(patient_dir)\n",
        "\n",
        "        # Load modalities\n",
        "        modalities = []\n",
        "        for mod in ['t1n', 't1c', 't2w', 't2f']:\n",
        "            img = nib.load(os.path.join(patient_dir, f\"{patient_id}-{mod}.nii.gz\")).get_fdata()\n",
        "            img = self.preprocess(img)\n",
        "            modalities.append(img)\n",
        "\n",
        "        image = np.stack(modalities, axis=0)  # Shape: (4, H, W, D)\n",
        "\n",
        "        if self.mode in ['train', 'val']:\n",
        "            mask = nib.load(os.path.join(patient_dir, f\"{patient_id}-seg.nii.gz\")).get_fdata()\n",
        "            mask = self.preprocess(mask, is_mask=True)\n",
        "            mask = self.encode_mask(mask)  # Shape: (H, W, D, 4)\n",
        "            mask = np.moveaxis(mask, -1, 0)  # Shape: (4, H, W, D)\n",
        "            return torch.tensor(image, dtype=torch.float32), torch.tensor(mask, dtype=torch.float32)\n",
        "        else:\n",
        "            return torch.tensor(image, dtype=torch.float32)\n",
        "\n",
        "    def preprocess(self, img, is_mask=False):\n",
        "        img = self.crop_or_pad(img, Config.img_size)\n",
        "        if not is_mask:\n",
        "            img = self.normalize(img)\n",
        "        return img\n",
        "\n",
        "    def crop_or_pad(self, img, target_size):\n",
        "        current_size = img.shape\n",
        "        new_img = np.zeros(target_size, dtype=img.dtype)\n",
        "\n",
        "        starts = [max(0, (current_size[i] - target_size[i]) // 2) for i in range(3)]\n",
        "        ends = [min(current_size[i], starts[i] + target_size[i]) for i in range(3)]\n",
        "\n",
        "        t_starts = [max(0, (target_size[i] - current_size[i]) // 2) for i in range(3)]\n",
        "        t_ends = [min(target_size[i], t_starts[i] + current_size[i]) for i in range(3)]\n",
        "\n",
        "        new_img[t_starts[0]:t_ends[0], t_starts[1]:t_ends[1], t_starts[2]:t_ends[2]] = \\\n",
        "            img[starts[0]:ends[0], starts[1]:ends[1], starts[2]:ends[2]]\n",
        "        return new_img\n",
        "\n",
        "    def normalize(self, img):\n",
        "        eps = 1e-8\n",
        "        return (img - img.mean()) / (img.std() + eps)\n",
        "\n",
        "    def encode_mask(self, mask):\n",
        "        encoded_mask = np.zeros((*mask.shape, Config.num_classes), dtype=np.float32)\n",
        "        encoded_mask[..., 0] = (mask == 0)  # Background\n",
        "        encoded_mask[..., 1] = (mask == 4)  # ET\n",
        "        encoded_mask[..., 2] = np.logical_or(mask == 1, mask == 4)  # TC\n",
        "        encoded_mask[..., 3] = (mask > 0)   # WT\n",
        "        return encoded_mask"
      ]
    },
    {
      "cell_type": "code",
      "execution_count": 15,
      "metadata": {
        "id": "qm3ZSJjGl3Dz"
      },
      "outputs": [],
      "source": [
        "class UNet3D(nn.Module):\n",
        "    def __init__(self, in_channels=4, out_channels=4, init_features=32):\n",
        "        super().__init__()\n",
        "        features = init_features\n",
        "\n",
        "        self.encoder1 = self._block(in_channels, features, \"enc1\")\n",
        "        self.pool1 = nn.MaxPool3d(2, 2)\n",
        "        self.encoder2 = self._block(features, features*2, \"enc2\")\n",
        "        self.pool2 = nn.MaxPool3d(2, 2)\n",
        "        self.encoder3 = self._block(features*2, features*4, \"enc3\")\n",
        "        self.pool3 = nn.MaxPool3d(2, 2)\n",
        "        self.encoder4 = self._block(features*4, features*8, \"enc4\")\n",
        "        self.pool4 = nn.MaxPool3d(2, 2)\n",
        "\n",
        "        self.bottleneck = self._block(features*8, features*16, \"bottleneck\")\n",
        "\n",
        "        self.upconv4 = nn.ConvTranspose3d(features*16, features*8, 2, 2)\n",
        "        self.decoder4 = self._block(features*16, features*8, \"dec4\")\n",
        "        self.upconv3 = nn.ConvTranspose3d(features*8, features*4, 2, 2)\n",
        "        self.decoder3 = self._block(features*8, features*4, \"dec3\")\n",
        "        self.upconv2 = nn.ConvTranspose3d(features*4, features*2, 2, 2)\n",
        "        self.decoder2 = self._block(features*4, features*2, \"dec2\")\n",
        "        self.upconv1 = nn.ConvTranspose3d(features*2, features, 2, 2)\n",
        "        self.decoder1 = self._block(features*2, features, \"dec1\")\n",
        "\n",
        "        self.conv = nn.Conv3d(features, out_channels, 1)\n",
        "\n",
        "    def forward(self, x):\n",
        "        enc1 = self.encoder1(x)\n",
        "        enc2 = self.encoder2(self.pool1(enc1))\n",
        "        enc3 = self.encoder3(self.pool2(enc2))\n",
        "        enc4 = self.encoder4(self.pool3(enc3))\n",
        "\n",
        "        bottleneck = self.bottleneck(self.pool4(enc4))\n",
        "\n",
        "        dec4 = self.upconv4(bottleneck)\n",
        "        dec4 = torch.cat((dec4, enc4), dim=1)\n",
        "        dec4 = self.decoder4(dec4)\n",
        "\n",
        "        dec3 = self.upconv3(dec4)\n",
        "        dec3 = torch.cat((dec3, enc3), dim=1)\n",
        "        dec3 = self.decoder3(dec3)\n",
        "\n",
        "        dec2 = self.upconv2(dec3)\n",
        "        dec2 = torch.cat((dec2, enc2), dim=1)\n",
        "        dec2 = self.decoder2(dec2)\n",
        "\n",
        "        dec1 = self.upconv1(dec2)\n",
        "        dec1 = torch.cat((dec1, enc1), dim=1)\n",
        "        dec1 = self.decoder1(dec1)\n",
        "\n",
        "        return torch.sigmoid(self.conv(dec1))\n",
        "\n",
        "    def _block(self, in_channels, features, name):\n",
        "        return nn.Sequential(\n",
        "            nn.Conv3d(in_channels, features, 3, padding=1, bias=False),\n",
        "            nn.BatchNorm3d(features),\n",
        "            nn.ReLU(inplace=True),\n",
        "            nn.Conv3d(features, features, 3, padding=1, bias=False),\n",
        "            nn.BatchNorm3d(features),\n",
        "            nn.ReLU(inplace=True)\n",
        "        )"
      ]
    },
    {
      "cell_type": "code",
      "execution_count": 16,
      "metadata": {
        "id": "sKTIrO3jl3D0"
      },
      "outputs": [],
      "source": [
        "def train(model, train_loader, optimizer, loss_fn, device):\n",
        "    model.train()\n",
        "    total_loss = 0.0\n",
        "\n",
        "    for data, target in tqdm(train_loader, desc=\"Training\"):\n",
        "        data, target = data.to(device), target.to(device)\n",
        "\n",
        "        optimizer.zero_grad()\n",
        "        output = model(data)\n",
        "\n",
        "        # Convert one-hot target to class indices\n",
        "        target_classes = torch.argmax(target, dim=1, keepdim=True)\n",
        "\n",
        "        loss = loss_fn(output, target_classes)\n",
        "        loss.backward()\n",
        "        optimizer.step()\n",
        "\n",
        "        total_loss += loss.item()\n",
        "\n",
        "    return total_loss / len(train_loader)\n",
        "\n",
        "def validate(model, val_loader, loss_fn, device):\n",
        "    model.eval()\n",
        "    total_loss = 0.0\n",
        "    total_dice = 0.0\n",
        "\n",
        "    with torch.no_grad():\n",
        "        for data, target in tqdm(val_loader, desc=\"Validation\"):\n",
        "            data, target = data.to(device), target.to(device)\n",
        "            output = model(data)\n",
        "\n",
        "            target_classes = torch.argmax(target, dim=1, keepdim=True)\n",
        "            loss = loss_fn(output, target_classes)\n",
        "            total_loss += loss.item()\n",
        "\n",
        "            preds = torch.argmax(output, dim=1)\n",
        "            dice_score = monai.metrics.compute_dice(\n",
        "                y_pred=preds,\n",
        "                y=target_classes.squeeze(1),\n",
        "                include_background=False\n",
        "            )\n",
        "            total_dice += dice_score.mean().item()\n",
        "\n",
        "    return total_loss / len(val_loader), total_dice / len(val_loader)"
      ]
    },
    {
      "cell_type": "code",
      "execution_count": 17,
      "metadata": {
        "id": "vSu4hdbWl3D1"
      },
      "outputs": [],
      "source": [
        "def get_patient_dirs(data_dir):\n",
        "    valid_dirs = []\n",
        "\n",
        "    for subdir in ['51_OtherNeoplasms', '95_Glioma']:\n",
        "        full_path = os.path.join(data_dir, subdir)\n",
        "        if not os.path.exists(full_path):\n",
        "            print(f\"Warning: {subdir} not found\")\n",
        "            continue\n",
        "\n",
        "        for patient in os.listdir(full_path):\n",
        "            patient_dir = os.path.join(full_path, patient)\n",
        "            if not os.path.isdir(patient_dir):\n",
        "                continue\n",
        "\n",
        "            # Check for required files\n",
        "            required_files = [\n",
        "                f\"{patient}-t1n.nii.gz\",\n",
        "                f\"{patient}-t1c.nii.gz\",\n",
        "                f\"{patient}-t2w.nii.gz\",\n",
        "                f\"{patient}-t2f.nii.gz\",\n",
        "                f\"{patient}-seg.nii.gz\"\n",
        "            ]\n",
        "\n",
        "            if all(os.path.exists(os.path.join(patient_dir, f)) for f in required_files):\n",
        "                valid_dirs.append(patient_dir)\n",
        "\n",
        "    if not valid_dirs:\n",
        "        raise ValueError(f\"No valid patient directories found in {data_dir}\")\n",
        "\n",
        "    print(f\"Found {len(valid_dirs)} patient directories with complete data\")\n",
        "    return valid_dirs"
      ]
    },
    {
      "cell_type": "code",
      "execution_count": 18,
      "metadata": {
        "colab": {
          "base_uri": "https://localhost:8080/"
        },
        "id": "94kM8kqZl3D1",
        "outputId": "b5e282dc-ef96-4e8f-8e2f-febf363e138c"
      },
      "outputs": [
        {
          "output_type": "stream",
          "name": "stdout",
          "text": [
            "Found 7 patient directories with complete data\n",
            "\n",
            "Epoch 1/100\n"
          ]
        },
        {
          "output_type": "stream",
          "name": "stderr",
          "text": [
            "Training: 100%|██████████| 3/3 [00:28<00:00,  9.49s/it]\n",
            "Validation: 100%|██████████| 1/1 [00:15<00:00, 15.46s/it]\n"
          ]
        },
        {
          "output_type": "stream",
          "name": "stdout",
          "text": [
            "Train Loss: 2.2483 | Val Loss: 2.3123 | Val Dice: nan\n",
            "\n",
            "Epoch 2/100\n"
          ]
        },
        {
          "output_type": "stream",
          "name": "stderr",
          "text": [
            "Training: 100%|██████████| 3/3 [00:21<00:00,  7.14s/it]\n",
            "Validation: 100%|██████████| 1/1 [00:05<00:00,  5.04s/it]\n"
          ]
        },
        {
          "output_type": "stream",
          "name": "stdout",
          "text": [
            "Train Loss: 2.2159 | Val Loss: 2.3055 | Val Dice: nan\n",
            "\n",
            "Epoch 3/100\n"
          ]
        },
        {
          "output_type": "stream",
          "name": "stderr",
          "text": [
            "Training: 100%|██████████| 3/3 [00:21<00:00,  7.09s/it]\n",
            "Validation: 100%|██████████| 1/1 [00:04<00:00,  4.93s/it]\n"
          ]
        },
        {
          "output_type": "stream",
          "name": "stdout",
          "text": [
            "Train Loss: 2.1935 | Val Loss: 2.2945 | Val Dice: nan\n",
            "\n",
            "Epoch 4/100\n"
          ]
        },
        {
          "output_type": "stream",
          "name": "stderr",
          "text": [
            "Training: 100%|██████████| 3/3 [00:21<00:00,  7.04s/it]\n",
            "Validation: 100%|██████████| 1/1 [00:05<00:00,  5.47s/it]\n"
          ]
        },
        {
          "output_type": "stream",
          "name": "stdout",
          "text": [
            "Train Loss: 2.1785 | Val Loss: 2.2775 | Val Dice: nan\n",
            "\n",
            "Epoch 5/100\n"
          ]
        },
        {
          "output_type": "stream",
          "name": "stderr",
          "text": [
            "Training: 100%|██████████| 3/3 [00:20<00:00,  6.98s/it]\n",
            "Validation: 100%|██████████| 1/1 [00:04<00:00,  4.93s/it]\n"
          ]
        },
        {
          "output_type": "stream",
          "name": "stdout",
          "text": [
            "Train Loss: 2.1765 | Val Loss: 2.2540 | Val Dice: nan\n",
            "\n",
            "Epoch 6/100\n"
          ]
        },
        {
          "output_type": "stream",
          "name": "stderr",
          "text": [
            "Training: 100%|██████████| 3/3 [00:21<00:00,  7.28s/it]\n",
            "Validation: 100%|██████████| 1/1 [00:05<00:00,  5.14s/it]\n"
          ]
        },
        {
          "output_type": "stream",
          "name": "stdout",
          "text": [
            "Train Loss: 2.1741 | Val Loss: 2.2273 | Val Dice: nan\n",
            "\n",
            "Epoch 7/100\n"
          ]
        },
        {
          "output_type": "stream",
          "name": "stderr",
          "text": [
            "Training: 100%|██████████| 3/3 [00:21<00:00,  7.21s/it]\n",
            "Validation: 100%|██████████| 1/1 [00:05<00:00,  5.10s/it]\n"
          ]
        },
        {
          "output_type": "stream",
          "name": "stdout",
          "text": [
            "Train Loss: 2.1575 | Val Loss: 2.2019 | Val Dice: nan\n",
            "\n",
            "Epoch 8/100\n"
          ]
        },
        {
          "output_type": "stream",
          "name": "stderr",
          "text": [
            "Training: 100%|██████████| 3/3 [00:20<00:00,  6.97s/it]\n",
            "Validation: 100%|██████████| 1/1 [00:05<00:00,  5.18s/it]\n"
          ]
        },
        {
          "output_type": "stream",
          "name": "stdout",
          "text": [
            "Train Loss: 2.1542 | Val Loss: 2.1781 | Val Dice: nan\n",
            "\n",
            "Epoch 9/100\n"
          ]
        },
        {
          "output_type": "stream",
          "name": "stderr",
          "text": [
            "Training: 100%|██████████| 3/3 [00:20<00:00,  6.89s/it]\n",
            "Validation: 100%|██████████| 1/1 [00:05<00:00,  5.30s/it]\n"
          ]
        },
        {
          "output_type": "stream",
          "name": "stdout",
          "text": [
            "Train Loss: 2.1547 | Val Loss: 2.1629 | Val Dice: nan\n",
            "\n",
            "Epoch 10/100\n"
          ]
        },
        {
          "output_type": "stream",
          "name": "stderr",
          "text": [
            "Training: 100%|██████████| 3/3 [00:21<00:00,  7.10s/it]\n",
            "Validation: 100%|██████████| 1/1 [00:04<00:00,  4.95s/it]\n"
          ]
        },
        {
          "output_type": "stream",
          "name": "stdout",
          "text": [
            "Train Loss: 2.1451 | Val Loss: 2.1622 | Val Dice: nan\n",
            "\n",
            "Epoch 11/100\n"
          ]
        },
        {
          "output_type": "stream",
          "name": "stderr",
          "text": [
            "Training: 100%|██████████| 3/3 [00:21<00:00,  7.12s/it]\n",
            "Validation: 100%|██████████| 1/1 [00:05<00:00,  5.15s/it]\n"
          ]
        },
        {
          "output_type": "stream",
          "name": "stdout",
          "text": [
            "Train Loss: 2.1282 | Val Loss: 2.1567 | Val Dice: nan\n",
            "\n",
            "Epoch 12/100\n"
          ]
        },
        {
          "output_type": "stream",
          "name": "stderr",
          "text": [
            "Training: 100%|██████████| 3/3 [00:21<00:00,  7.07s/it]\n",
            "Validation: 100%|██████████| 1/1 [00:05<00:00,  5.44s/it]\n"
          ]
        },
        {
          "output_type": "stream",
          "name": "stdout",
          "text": [
            "Train Loss: 2.1237 | Val Loss: 2.1378 | Val Dice: nan\n",
            "\n",
            "Epoch 13/100\n"
          ]
        },
        {
          "output_type": "stream",
          "name": "stderr",
          "text": [
            "Training: 100%|██████████| 3/3 [00:21<00:00,  7.16s/it]\n",
            "Validation: 100%|██████████| 1/1 [00:04<00:00,  4.95s/it]\n"
          ]
        },
        {
          "output_type": "stream",
          "name": "stdout",
          "text": [
            "Train Loss: 2.1208 | Val Loss: 2.1329 | Val Dice: nan\n",
            "\n",
            "Epoch 14/100\n"
          ]
        },
        {
          "output_type": "stream",
          "name": "stderr",
          "text": [
            "Training: 100%|██████████| 3/3 [00:21<00:00,  7.13s/it]\n",
            "Validation: 100%|██████████| 1/1 [00:04<00:00,  4.98s/it]\n"
          ]
        },
        {
          "output_type": "stream",
          "name": "stdout",
          "text": [
            "Train Loss: 2.1268 | Val Loss: 2.1309 | Val Dice: nan\n",
            "\n",
            "Epoch 15/100\n"
          ]
        },
        {
          "output_type": "stream",
          "name": "stderr",
          "text": [
            "Training: 100%|██████████| 3/3 [00:20<00:00,  6.85s/it]\n",
            "Validation: 100%|██████████| 1/1 [00:05<00:00,  5.36s/it]\n"
          ]
        },
        {
          "output_type": "stream",
          "name": "stdout",
          "text": [
            "Train Loss: 2.1249 | Val Loss: 2.1236 | Val Dice: nan\n",
            "\n",
            "Epoch 16/100\n"
          ]
        },
        {
          "output_type": "stream",
          "name": "stderr",
          "text": [
            "Training: 100%|██████████| 3/3 [00:21<00:00,  7.24s/it]\n",
            "Validation: 100%|██████████| 1/1 [00:05<00:00,  5.18s/it]\n"
          ]
        },
        {
          "output_type": "stream",
          "name": "stdout",
          "text": [
            "Train Loss: 2.1300 | Val Loss: 2.1197 | Val Dice: nan\n",
            "\n",
            "Epoch 17/100\n"
          ]
        },
        {
          "output_type": "stream",
          "name": "stderr",
          "text": [
            "Training: 100%|██████████| 3/3 [00:20<00:00,  6.87s/it]\n",
            "Validation: 100%|██████████| 1/1 [00:05<00:00,  5.17s/it]\n"
          ]
        },
        {
          "output_type": "stream",
          "name": "stdout",
          "text": [
            "Train Loss: 2.1246 | Val Loss: 2.1182 | Val Dice: nan\n",
            "\n",
            "Epoch 18/100\n"
          ]
        },
        {
          "output_type": "stream",
          "name": "stderr",
          "text": [
            "Training: 100%|██████████| 3/3 [00:20<00:00,  6.87s/it]\n",
            "Validation: 100%|██████████| 1/1 [00:05<00:00,  5.20s/it]\n"
          ]
        },
        {
          "output_type": "stream",
          "name": "stdout",
          "text": [
            "Train Loss: 2.1113 | Val Loss: 2.1182 | Val Dice: nan\n",
            "\n",
            "Epoch 19/100\n"
          ]
        },
        {
          "output_type": "stream",
          "name": "stderr",
          "text": [
            "Training: 100%|██████████| 3/3 [00:20<00:00,  6.88s/it]\n",
            "Validation: 100%|██████████| 1/1 [00:04<00:00,  4.92s/it]\n"
          ]
        },
        {
          "output_type": "stream",
          "name": "stdout",
          "text": [
            "Train Loss: 2.1206 | Val Loss: 2.1152 | Val Dice: nan\n",
            "\n",
            "Epoch 20/100\n"
          ]
        },
        {
          "output_type": "stream",
          "name": "stderr",
          "text": [
            "Training: 100%|██████████| 3/3 [00:21<00:00,  7.06s/it]\n",
            "Validation: 100%|██████████| 1/1 [00:05<00:00,  5.44s/it]\n"
          ]
        },
        {
          "output_type": "stream",
          "name": "stdout",
          "text": [
            "Train Loss: 2.1080 | Val Loss: 2.1149 | Val Dice: nan\n",
            "\n",
            "Epoch 21/100\n"
          ]
        },
        {
          "output_type": "stream",
          "name": "stderr",
          "text": [
            "Training: 100%|██████████| 3/3 [00:21<00:00,  7.02s/it]\n",
            "Validation: 100%|██████████| 1/1 [00:05<00:00,  5.40s/it]\n"
          ]
        },
        {
          "output_type": "stream",
          "name": "stdout",
          "text": [
            "Train Loss: 2.1147 | Val Loss: 2.1140 | Val Dice: nan\n",
            "\n",
            "Epoch 22/100\n"
          ]
        },
        {
          "output_type": "stream",
          "name": "stderr",
          "text": [
            "Training: 100%|██████████| 3/3 [00:21<00:00,  7.09s/it]\n",
            "Validation: 100%|██████████| 1/1 [00:05<00:00,  5.14s/it]\n"
          ]
        },
        {
          "output_type": "stream",
          "name": "stdout",
          "text": [
            "Train Loss: 2.1128 | Val Loss: 2.1134 | Val Dice: nan\n",
            "\n",
            "Epoch 23/100\n"
          ]
        },
        {
          "output_type": "stream",
          "name": "stderr",
          "text": [
            "Training: 100%|██████████| 3/3 [00:20<00:00,  6.98s/it]\n",
            "Validation: 100%|██████████| 1/1 [00:04<00:00,  4.93s/it]\n"
          ]
        },
        {
          "output_type": "stream",
          "name": "stdout",
          "text": [
            "Train Loss: 2.1100 | Val Loss: 2.1137 | Val Dice: nan\n",
            "\n",
            "Epoch 24/100\n"
          ]
        },
        {
          "output_type": "stream",
          "name": "stderr",
          "text": [
            "Training: 100%|██████████| 3/3 [00:20<00:00,  6.86s/it]\n",
            "Validation: 100%|██████████| 1/1 [00:05<00:00,  5.29s/it]\n"
          ]
        },
        {
          "output_type": "stream",
          "name": "stdout",
          "text": [
            "Train Loss: 2.1096 | Val Loss: 2.1150 | Val Dice: nan\n",
            "\n",
            "Epoch 25/100\n"
          ]
        },
        {
          "output_type": "stream",
          "name": "stderr",
          "text": [
            "Training: 100%|██████████| 3/3 [00:21<00:00,  7.02s/it]\n",
            "Validation: 100%|██████████| 1/1 [00:05<00:00,  5.23s/it]\n"
          ]
        },
        {
          "output_type": "stream",
          "name": "stdout",
          "text": [
            "Train Loss: 2.1112 | Val Loss: 2.1154 | Val Dice: nan\n",
            "\n",
            "Epoch 26/100\n"
          ]
        },
        {
          "output_type": "stream",
          "name": "stderr",
          "text": [
            "Training: 100%|██████████| 3/3 [00:20<00:00,  6.94s/it]\n",
            "Validation: 100%|██████████| 1/1 [00:05<00:00,  5.21s/it]\n"
          ]
        },
        {
          "output_type": "stream",
          "name": "stdout",
          "text": [
            "Train Loss: 2.1092 | Val Loss: 2.1124 | Val Dice: nan\n",
            "\n",
            "Epoch 27/100\n"
          ]
        },
        {
          "output_type": "stream",
          "name": "stderr",
          "text": [
            "Training: 100%|██████████| 3/3 [00:21<00:00,  7.10s/it]\n",
            "Validation: 100%|██████████| 1/1 [00:05<00:00,  5.19s/it]\n"
          ]
        },
        {
          "output_type": "stream",
          "name": "stdout",
          "text": [
            "Train Loss: 2.0958 | Val Loss: 2.1092 | Val Dice: nan\n",
            "\n",
            "Epoch 28/100\n"
          ]
        },
        {
          "output_type": "stream",
          "name": "stderr",
          "text": [
            "Training: 100%|██████████| 3/3 [00:22<00:00,  7.34s/it]\n",
            "Validation: 100%|██████████| 1/1 [00:05<00:00,  5.03s/it]\n"
          ]
        },
        {
          "output_type": "stream",
          "name": "stdout",
          "text": [
            "Train Loss: 2.1037 | Val Loss: 2.1083 | Val Dice: nan\n",
            "\n",
            "Epoch 29/100\n"
          ]
        },
        {
          "output_type": "stream",
          "name": "stderr",
          "text": [
            "Training: 100%|██████████| 3/3 [00:20<00:00,  6.97s/it]\n",
            "Validation: 100%|██████████| 1/1 [00:05<00:00,  5.02s/it]\n"
          ]
        },
        {
          "output_type": "stream",
          "name": "stdout",
          "text": [
            "Train Loss: 2.0932 | Val Loss: 2.1068 | Val Dice: nan\n",
            "\n",
            "Epoch 30/100\n"
          ]
        },
        {
          "output_type": "stream",
          "name": "stderr",
          "text": [
            "Training: 100%|██████████| 3/3 [00:21<00:00,  7.00s/it]\n",
            "Validation: 100%|██████████| 1/1 [00:04<00:00,  4.96s/it]\n"
          ]
        },
        {
          "output_type": "stream",
          "name": "stdout",
          "text": [
            "Train Loss: 2.1044 | Val Loss: 2.1045 | Val Dice: nan\n",
            "\n",
            "Epoch 31/100\n"
          ]
        },
        {
          "output_type": "stream",
          "name": "stderr",
          "text": [
            "Training: 100%|██████████| 3/3 [00:21<00:00,  7.22s/it]\n",
            "Validation: 100%|██████████| 1/1 [00:05<00:00,  5.03s/it]\n"
          ]
        },
        {
          "output_type": "stream",
          "name": "stdout",
          "text": [
            "Train Loss: 2.0991 | Val Loss: 2.1008 | Val Dice: nan\n",
            "\n",
            "Epoch 32/100\n"
          ]
        },
        {
          "output_type": "stream",
          "name": "stderr",
          "text": [
            "Training: 100%|██████████| 3/3 [00:21<00:00,  7.00s/it]\n",
            "Validation: 100%|██████████| 1/1 [00:05<00:00,  5.47s/it]\n"
          ]
        },
        {
          "output_type": "stream",
          "name": "stdout",
          "text": [
            "Train Loss: 2.1004 | Val Loss: 2.0991 | Val Dice: nan\n",
            "\n",
            "Epoch 33/100\n"
          ]
        },
        {
          "output_type": "stream",
          "name": "stderr",
          "text": [
            "Training: 100%|██████████| 3/3 [00:21<00:00,  7.11s/it]\n",
            "Validation: 100%|██████████| 1/1 [00:04<00:00,  4.99s/it]\n"
          ]
        },
        {
          "output_type": "stream",
          "name": "stdout",
          "text": [
            "Train Loss: 2.0860 | Val Loss: 2.1008 | Val Dice: nan\n",
            "\n",
            "Epoch 34/100\n"
          ]
        },
        {
          "output_type": "stream",
          "name": "stderr",
          "text": [
            "Training: 100%|██████████| 3/3 [00:21<00:00,  7.03s/it]\n",
            "Validation: 100%|██████████| 1/1 [00:04<00:00,  4.96s/it]\n"
          ]
        },
        {
          "output_type": "stream",
          "name": "stdout",
          "text": [
            "Train Loss: 2.0955 | Val Loss: 2.1022 | Val Dice: nan\n",
            "\n",
            "Epoch 35/100\n"
          ]
        },
        {
          "output_type": "stream",
          "name": "stderr",
          "text": [
            "Training: 100%|██████████| 3/3 [00:21<00:00,  7.02s/it]\n",
            "Validation: 100%|██████████| 1/1 [00:05<00:00,  5.51s/it]\n"
          ]
        },
        {
          "output_type": "stream",
          "name": "stdout",
          "text": [
            "Train Loss: 2.0914 | Val Loss: 2.0998 | Val Dice: nan\n",
            "\n",
            "Epoch 36/100\n"
          ]
        },
        {
          "output_type": "stream",
          "name": "stderr",
          "text": [
            "Training: 100%|██████████| 3/3 [00:20<00:00,  6.90s/it]\n",
            "Validation: 100%|██████████| 1/1 [00:05<00:00,  5.09s/it]\n"
          ]
        },
        {
          "output_type": "stream",
          "name": "stdout",
          "text": [
            "Train Loss: 2.0932 | Val Loss: 2.0985 | Val Dice: nan\n",
            "\n",
            "Epoch 37/100\n"
          ]
        },
        {
          "output_type": "stream",
          "name": "stderr",
          "text": [
            "Training: 100%|██████████| 3/3 [00:21<00:00,  7.21s/it]\n",
            "Validation: 100%|██████████| 1/1 [00:05<00:00,  5.14s/it]\n"
          ]
        },
        {
          "output_type": "stream",
          "name": "stdout",
          "text": [
            "Train Loss: 2.0809 | Val Loss: 2.0953 | Val Dice: nan\n",
            "\n",
            "Epoch 38/100\n"
          ]
        },
        {
          "output_type": "stream",
          "name": "stderr",
          "text": [
            "Training: 100%|██████████| 3/3 [00:21<00:00,  7.03s/it]\n",
            "Validation: 100%|██████████| 1/1 [00:05<00:00,  5.56s/it]\n"
          ]
        },
        {
          "output_type": "stream",
          "name": "stdout",
          "text": [
            "Train Loss: 2.0796 | Val Loss: 2.0929 | Val Dice: nan\n",
            "\n",
            "Epoch 39/100\n"
          ]
        },
        {
          "output_type": "stream",
          "name": "stderr",
          "text": [
            "Training: 100%|██████████| 3/3 [00:21<00:00,  7.26s/it]\n",
            "Validation: 100%|██████████| 1/1 [00:05<00:00,  5.02s/it]\n"
          ]
        },
        {
          "output_type": "stream",
          "name": "stdout",
          "text": [
            "Train Loss: 2.0784 | Val Loss: 2.0929 | Val Dice: nan\n",
            "\n",
            "Epoch 40/100\n"
          ]
        },
        {
          "output_type": "stream",
          "name": "stderr",
          "text": [
            "Training: 100%|██████████| 3/3 [00:20<00:00,  6.93s/it]\n",
            "Validation: 100%|██████████| 1/1 [00:05<00:00,  5.01s/it]\n"
          ]
        },
        {
          "output_type": "stream",
          "name": "stdout",
          "text": [
            "Train Loss: 2.0768 | Val Loss: 2.0936 | Val Dice: nan\n",
            "\n",
            "Epoch 41/100\n"
          ]
        },
        {
          "output_type": "stream",
          "name": "stderr",
          "text": [
            "Training: 100%|██████████| 3/3 [00:21<00:00,  7.30s/it]\n",
            "Validation: 100%|██████████| 1/1 [00:05<00:00,  5.46s/it]\n"
          ]
        },
        {
          "output_type": "stream",
          "name": "stdout",
          "text": [
            "Train Loss: 2.0879 | Val Loss: 2.0922 | Val Dice: nan\n",
            "\n",
            "Epoch 42/100\n"
          ]
        },
        {
          "output_type": "stream",
          "name": "stderr",
          "text": [
            "Training: 100%|██████████| 3/3 [00:21<00:00,  7.09s/it]\n",
            "Validation: 100%|██████████| 1/1 [00:05<00:00,  5.41s/it]\n"
          ]
        },
        {
          "output_type": "stream",
          "name": "stdout",
          "text": [
            "Train Loss: 2.0819 | Val Loss: 2.0886 | Val Dice: nan\n",
            "\n",
            "Epoch 43/100\n"
          ]
        },
        {
          "output_type": "stream",
          "name": "stderr",
          "text": [
            "Training: 100%|██████████| 3/3 [00:21<00:00,  7.20s/it]\n",
            "Validation: 100%|██████████| 1/1 [00:05<00:00,  5.22s/it]\n"
          ]
        },
        {
          "output_type": "stream",
          "name": "stdout",
          "text": [
            "Train Loss: 2.0800 | Val Loss: 2.0833 | Val Dice: nan\n",
            "\n",
            "Epoch 44/100\n"
          ]
        },
        {
          "output_type": "stream",
          "name": "stderr",
          "text": [
            "Training: 100%|██████████| 3/3 [00:21<00:00,  7.21s/it]\n",
            "Validation: 100%|██████████| 1/1 [00:05<00:00,  5.06s/it]\n"
          ]
        },
        {
          "output_type": "stream",
          "name": "stdout",
          "text": [
            "Train Loss: 2.0806 | Val Loss: 2.0853 | Val Dice: nan\n",
            "\n",
            "Epoch 45/100\n"
          ]
        },
        {
          "output_type": "stream",
          "name": "stderr",
          "text": [
            "Training: 100%|██████████| 3/3 [00:21<00:00,  7.04s/it]\n",
            "Validation: 100%|██████████| 1/1 [00:05<00:00,  5.46s/it]\n"
          ]
        },
        {
          "output_type": "stream",
          "name": "stdout",
          "text": [
            "Train Loss: 2.0824 | Val Loss: 2.0843 | Val Dice: nan\n",
            "\n",
            "Epoch 46/100\n"
          ]
        },
        {
          "output_type": "stream",
          "name": "stderr",
          "text": [
            "Training: 100%|██████████| 3/3 [00:21<00:00,  7.19s/it]\n",
            "Validation: 100%|██████████| 1/1 [00:05<00:00,  5.05s/it]\n"
          ]
        },
        {
          "output_type": "stream",
          "name": "stdout",
          "text": [
            "Train Loss: 2.0685 | Val Loss: 2.0834 | Val Dice: nan\n",
            "\n",
            "Epoch 47/100\n"
          ]
        },
        {
          "output_type": "stream",
          "name": "stderr",
          "text": [
            "Training: 100%|██████████| 3/3 [00:22<00:00,  7.45s/it]\n",
            "Validation: 100%|██████████| 1/1 [00:04<00:00,  4.97s/it]\n"
          ]
        },
        {
          "output_type": "stream",
          "name": "stdout",
          "text": [
            "Train Loss: 2.0660 | Val Loss: 2.0864 | Val Dice: nan\n",
            "\n",
            "Epoch 48/100\n"
          ]
        },
        {
          "output_type": "stream",
          "name": "stderr",
          "text": [
            "Training: 100%|██████████| 3/3 [00:21<00:00,  7.10s/it]\n",
            "Validation: 100%|██████████| 1/1 [00:05<00:00,  5.43s/it]\n"
          ]
        },
        {
          "output_type": "stream",
          "name": "stdout",
          "text": [
            "Train Loss: 2.0644 | Val Loss: 2.0812 | Val Dice: nan\n",
            "\n",
            "Epoch 49/100\n"
          ]
        },
        {
          "output_type": "stream",
          "name": "stderr",
          "text": [
            "Training: 100%|██████████| 3/3 [00:21<00:00,  7.05s/it]\n",
            "Validation: 100%|██████████| 1/1 [00:05<00:00,  5.21s/it]\n"
          ]
        },
        {
          "output_type": "stream",
          "name": "stdout",
          "text": [
            "Train Loss: 2.0646 | Val Loss: 2.0769 | Val Dice: nan\n",
            "\n",
            "Epoch 50/100\n"
          ]
        },
        {
          "output_type": "stream",
          "name": "stderr",
          "text": [
            "Training: 100%|██████████| 3/3 [00:21<00:00,  7.23s/it]\n",
            "Validation: 100%|██████████| 1/1 [00:04<00:00,  4.96s/it]\n"
          ]
        },
        {
          "output_type": "stream",
          "name": "stdout",
          "text": [
            "Train Loss: 2.0747 | Val Loss: 2.0739 | Val Dice: nan\n",
            "\n",
            "Epoch 51/100\n"
          ]
        },
        {
          "output_type": "stream",
          "name": "stderr",
          "text": [
            "Training: 100%|██████████| 3/3 [00:21<00:00,  7.01s/it]\n",
            "Validation: 100%|██████████| 1/1 [00:05<00:00,  5.52s/it]\n"
          ]
        },
        {
          "output_type": "stream",
          "name": "stdout",
          "text": [
            "Train Loss: 2.0599 | Val Loss: 2.0731 | Val Dice: nan\n",
            "\n",
            "Epoch 52/100\n"
          ]
        },
        {
          "output_type": "stream",
          "name": "stderr",
          "text": [
            "Training: 100%|██████████| 3/3 [00:22<00:00,  7.41s/it]\n",
            "Validation: 100%|██████████| 1/1 [00:05<00:00,  5.05s/it]\n"
          ]
        },
        {
          "output_type": "stream",
          "name": "stdout",
          "text": [
            "Train Loss: 2.0684 | Val Loss: 2.0738 | Val Dice: nan\n",
            "\n",
            "Epoch 53/100\n"
          ]
        },
        {
          "output_type": "stream",
          "name": "stderr",
          "text": [
            "Training: 100%|██████████| 3/3 [00:21<00:00,  7.26s/it]\n",
            "Validation: 100%|██████████| 1/1 [00:05<00:00,  5.50s/it]\n"
          ]
        },
        {
          "output_type": "stream",
          "name": "stdout",
          "text": [
            "Train Loss: 2.0577 | Val Loss: 2.0729 | Val Dice: nan\n",
            "\n",
            "Epoch 54/100\n"
          ]
        },
        {
          "output_type": "stream",
          "name": "stderr",
          "text": [
            "Training: 100%|██████████| 3/3 [00:22<00:00,  7.39s/it]\n",
            "Validation: 100%|██████████| 1/1 [00:05<00:00,  5.45s/it]\n"
          ]
        },
        {
          "output_type": "stream",
          "name": "stdout",
          "text": [
            "Train Loss: 2.0568 | Val Loss: 2.0709 | Val Dice: nan\n",
            "\n",
            "Epoch 55/100\n"
          ]
        },
        {
          "output_type": "stream",
          "name": "stderr",
          "text": [
            "Training: 100%|██████████| 3/3 [00:22<00:00,  7.43s/it]\n",
            "Validation: 100%|██████████| 1/1 [00:05<00:00,  5.30s/it]\n"
          ]
        },
        {
          "output_type": "stream",
          "name": "stdout",
          "text": [
            "Train Loss: 2.0647 | Val Loss: 2.0700 | Val Dice: nan\n",
            "\n",
            "Epoch 56/100\n"
          ]
        },
        {
          "output_type": "stream",
          "name": "stderr",
          "text": [
            "Training: 100%|██████████| 3/3 [00:20<00:00,  6.83s/it]\n",
            "Validation: 100%|██████████| 1/1 [00:05<00:00,  5.06s/it]\n"
          ]
        },
        {
          "output_type": "stream",
          "name": "stdout",
          "text": [
            "Train Loss: 2.0641 | Val Loss: 2.0673 | Val Dice: nan\n",
            "\n",
            "Epoch 57/100\n"
          ]
        },
        {
          "output_type": "stream",
          "name": "stderr",
          "text": [
            "Training: 100%|██████████| 3/3 [00:20<00:00,  6.81s/it]\n",
            "Validation: 100%|██████████| 1/1 [00:05<00:00,  5.14s/it]\n"
          ]
        },
        {
          "output_type": "stream",
          "name": "stdout",
          "text": [
            "Train Loss: 2.0622 | Val Loss: 2.0664 | Val Dice: nan\n",
            "\n",
            "Epoch 58/100\n"
          ]
        },
        {
          "output_type": "stream",
          "name": "stderr",
          "text": [
            "Training: 100%|██████████| 3/3 [00:21<00:00,  7.02s/it]\n",
            "Validation: 100%|██████████| 1/1 [00:05<00:00,  5.17s/it]\n"
          ]
        },
        {
          "output_type": "stream",
          "name": "stdout",
          "text": [
            "Train Loss: 2.0646 | Val Loss: 2.0668 | Val Dice: nan\n",
            "\n",
            "Epoch 59/100\n"
          ]
        },
        {
          "output_type": "stream",
          "name": "stderr",
          "text": [
            "Training: 100%|██████████| 3/3 [00:21<00:00,  7.02s/it]\n",
            "Validation: 100%|██████████| 1/1 [00:05<00:00,  5.09s/it]\n"
          ]
        },
        {
          "output_type": "stream",
          "name": "stdout",
          "text": [
            "Train Loss: 2.0500 | Val Loss: 2.0630 | Val Dice: nan\n",
            "\n",
            "Epoch 60/100\n"
          ]
        },
        {
          "output_type": "stream",
          "name": "stderr",
          "text": [
            "Training: 100%|██████████| 3/3 [00:21<00:00,  7.05s/it]\n",
            "Validation: 100%|██████████| 1/1 [00:05<00:00,  5.47s/it]\n"
          ]
        },
        {
          "output_type": "stream",
          "name": "stdout",
          "text": [
            "Train Loss: 2.0501 | Val Loss: 2.0644 | Val Dice: nan\n",
            "\n",
            "Epoch 61/100\n"
          ]
        },
        {
          "output_type": "stream",
          "name": "stderr",
          "text": [
            "Training: 100%|██████████| 3/3 [00:21<00:00,  7.15s/it]\n",
            "Validation: 100%|██████████| 1/1 [00:05<00:00,  5.34s/it]\n"
          ]
        },
        {
          "output_type": "stream",
          "name": "stdout",
          "text": [
            "Train Loss: 2.0480 | Val Loss: 2.0666 | Val Dice: nan\n",
            "\n",
            "Epoch 62/100\n"
          ]
        },
        {
          "output_type": "stream",
          "name": "stderr",
          "text": [
            "Training: 100%|██████████| 3/3 [00:21<00:00,  7.21s/it]\n",
            "Validation: 100%|██████████| 1/1 [00:05<00:00,  5.49s/it]\n"
          ]
        },
        {
          "output_type": "stream",
          "name": "stdout",
          "text": [
            "Train Loss: 2.0457 | Val Loss: 2.0646 | Val Dice: nan\n",
            "\n",
            "Epoch 63/100\n"
          ]
        },
        {
          "output_type": "stream",
          "name": "stderr",
          "text": [
            "Training: 100%|██████████| 3/3 [00:21<00:00,  7.10s/it]\n",
            "Validation: 100%|██████████| 1/1 [00:04<00:00,  4.99s/it]\n"
          ]
        },
        {
          "output_type": "stream",
          "name": "stdout",
          "text": [
            "Train Loss: 2.0597 | Val Loss: 2.0624 | Val Dice: nan\n",
            "\n",
            "Epoch 64/100\n"
          ]
        },
        {
          "output_type": "stream",
          "name": "stderr",
          "text": [
            "Training: 100%|██████████| 3/3 [00:21<00:00,  7.07s/it]\n",
            "Validation: 100%|██████████| 1/1 [00:05<00:00,  5.47s/it]\n"
          ]
        },
        {
          "output_type": "stream",
          "name": "stdout",
          "text": [
            "Train Loss: 2.0439 | Val Loss: 2.0636 | Val Dice: nan\n",
            "\n",
            "Epoch 65/100\n"
          ]
        },
        {
          "output_type": "stream",
          "name": "stderr",
          "text": [
            "Training: 100%|██████████| 3/3 [00:21<00:00,  7.01s/it]\n",
            "Validation: 100%|██████████| 1/1 [00:04<00:00,  4.96s/it]\n"
          ]
        },
        {
          "output_type": "stream",
          "name": "stdout",
          "text": [
            "Train Loss: 2.0589 | Val Loss: 2.0600 | Val Dice: nan\n",
            "\n",
            "Epoch 66/100\n"
          ]
        },
        {
          "output_type": "stream",
          "name": "stderr",
          "text": [
            "Training: 100%|██████████| 3/3 [00:21<00:00,  7.00s/it]\n",
            "Validation: 100%|██████████| 1/1 [00:05<00:00,  5.43s/it]\n"
          ]
        },
        {
          "output_type": "stream",
          "name": "stdout",
          "text": [
            "Train Loss: 2.0411 | Val Loss: 2.0540 | Val Dice: nan\n",
            "\n",
            "Epoch 67/100\n"
          ]
        },
        {
          "output_type": "stream",
          "name": "stderr",
          "text": [
            "Training: 100%|██████████| 3/3 [00:21<00:00,  7.24s/it]\n",
            "Validation: 100%|██████████| 1/1 [00:05<00:00,  5.39s/it]\n"
          ]
        },
        {
          "output_type": "stream",
          "name": "stdout",
          "text": [
            "Train Loss: 2.0497 | Val Loss: 2.0512 | Val Dice: nan\n",
            "\n",
            "Epoch 68/100\n"
          ]
        },
        {
          "output_type": "stream",
          "name": "stderr",
          "text": [
            "Training: 100%|██████████| 3/3 [00:22<00:00,  7.40s/it]\n",
            "Validation: 100%|██████████| 1/1 [00:04<00:00,  4.93s/it]\n"
          ]
        },
        {
          "output_type": "stream",
          "name": "stdout",
          "text": [
            "Train Loss: 2.0533 | Val Loss: 2.0518 | Val Dice: nan\n",
            "\n",
            "Epoch 69/100\n"
          ]
        },
        {
          "output_type": "stream",
          "name": "stderr",
          "text": [
            "Training: 100%|██████████| 3/3 [00:21<00:00,  7.18s/it]\n",
            "Validation: 100%|██████████| 1/1 [00:05<00:00,  5.44s/it]\n"
          ]
        },
        {
          "output_type": "stream",
          "name": "stdout",
          "text": [
            "Train Loss: 2.0371 | Val Loss: 2.0535 | Val Dice: nan\n",
            "\n",
            "Epoch 70/100\n"
          ]
        },
        {
          "output_type": "stream",
          "name": "stderr",
          "text": [
            "Training: 100%|██████████| 3/3 [00:21<00:00,  7.17s/it]\n",
            "Validation: 100%|██████████| 1/1 [00:05<00:00,  5.50s/it]\n"
          ]
        },
        {
          "output_type": "stream",
          "name": "stdout",
          "text": [
            "Train Loss: 2.0509 | Val Loss: 2.0515 | Val Dice: nan\n",
            "\n",
            "Epoch 71/100\n"
          ]
        },
        {
          "output_type": "stream",
          "name": "stderr",
          "text": [
            "Training: 100%|██████████| 3/3 [00:21<00:00,  7.27s/it]\n",
            "Validation: 100%|██████████| 1/1 [00:05<00:00,  5.49s/it]\n"
          ]
        },
        {
          "output_type": "stream",
          "name": "stdout",
          "text": [
            "Train Loss: 2.0369 | Val Loss: 2.0465 | Val Dice: nan\n",
            "\n",
            "Epoch 72/100\n"
          ]
        },
        {
          "output_type": "stream",
          "name": "stderr",
          "text": [
            "Training: 100%|██████████| 3/3 [00:21<00:00,  7.13s/it]\n",
            "Validation: 100%|██████████| 1/1 [00:05<00:00,  5.54s/it]\n"
          ]
        },
        {
          "output_type": "stream",
          "name": "stdout",
          "text": [
            "Train Loss: 2.0334 | Val Loss: 2.0444 | Val Dice: nan\n",
            "\n",
            "Epoch 73/100\n"
          ]
        },
        {
          "output_type": "stream",
          "name": "stderr",
          "text": [
            "Training: 100%|██████████| 3/3 [00:20<00:00,  6.79s/it]\n",
            "Validation: 100%|██████████| 1/1 [00:05<00:00,  5.50s/it]\n"
          ]
        },
        {
          "output_type": "stream",
          "name": "stdout",
          "text": [
            "Train Loss: 2.0424 | Val Loss: 2.0478 | Val Dice: nan\n",
            "\n",
            "Epoch 74/100\n"
          ]
        },
        {
          "output_type": "stream",
          "name": "stderr",
          "text": [
            "Training: 100%|██████████| 3/3 [00:21<00:00,  7.23s/it]\n",
            "Validation: 100%|██████████| 1/1 [00:05<00:00,  5.38s/it]\n"
          ]
        },
        {
          "output_type": "stream",
          "name": "stdout",
          "text": [
            "Train Loss: 2.0428 | Val Loss: 2.0461 | Val Dice: nan\n",
            "\n",
            "Epoch 75/100\n"
          ]
        },
        {
          "output_type": "stream",
          "name": "stderr",
          "text": [
            "Training: 100%|██████████| 3/3 [00:20<00:00,  6.94s/it]\n",
            "Validation: 100%|██████████| 1/1 [00:05<00:00,  5.07s/it]\n"
          ]
        },
        {
          "output_type": "stream",
          "name": "stdout",
          "text": [
            "Train Loss: 2.0400 | Val Loss: 2.0440 | Val Dice: nan\n",
            "\n",
            "Epoch 76/100\n"
          ]
        },
        {
          "output_type": "stream",
          "name": "stderr",
          "text": [
            "Training: 100%|██████████| 3/3 [00:22<00:00,  7.35s/it]\n",
            "Validation: 100%|██████████| 1/1 [00:05<00:00,  5.02s/it]\n"
          ]
        },
        {
          "output_type": "stream",
          "name": "stdout",
          "text": [
            "Train Loss: 2.0286 | Val Loss: 2.0458 | Val Dice: nan\n",
            "\n",
            "Epoch 77/100\n"
          ]
        },
        {
          "output_type": "stream",
          "name": "stderr",
          "text": [
            "Training: 100%|██████████| 3/3 [00:21<00:00,  7.09s/it]\n",
            "Validation: 100%|██████████| 1/1 [00:05<00:00,  5.16s/it]\n"
          ]
        },
        {
          "output_type": "stream",
          "name": "stdout",
          "text": [
            "Train Loss: 2.0293 | Val Loss: 2.0440 | Val Dice: nan\n",
            "\n",
            "Epoch 78/100\n"
          ]
        },
        {
          "output_type": "stream",
          "name": "stderr",
          "text": [
            "Training: 100%|██████████| 3/3 [00:21<00:00,  7.20s/it]\n",
            "Validation: 100%|██████████| 1/1 [00:05<00:00,  5.07s/it]\n"
          ]
        },
        {
          "output_type": "stream",
          "name": "stdout",
          "text": [
            "Train Loss: 2.0404 | Val Loss: 2.0443 | Val Dice: nan\n",
            "\n",
            "Epoch 79/100\n"
          ]
        },
        {
          "output_type": "stream",
          "name": "stderr",
          "text": [
            "Training: 100%|██████████| 3/3 [00:21<00:00,  7.06s/it]\n",
            "Validation: 100%|██████████| 1/1 [00:05<00:00,  5.45s/it]\n"
          ]
        },
        {
          "output_type": "stream",
          "name": "stdout",
          "text": [
            "Train Loss: 2.0405 | Val Loss: 2.0421 | Val Dice: nan\n",
            "\n",
            "Epoch 80/100\n"
          ]
        },
        {
          "output_type": "stream",
          "name": "stderr",
          "text": [
            "Training: 100%|██████████| 3/3 [00:21<00:00,  7.33s/it]\n",
            "Validation: 100%|██████████| 1/1 [00:05<00:00,  5.06s/it]\n"
          ]
        },
        {
          "output_type": "stream",
          "name": "stdout",
          "text": [
            "Train Loss: 2.0346 | Val Loss: 2.0405 | Val Dice: nan\n",
            "\n",
            "Epoch 81/100\n"
          ]
        },
        {
          "output_type": "stream",
          "name": "stderr",
          "text": [
            "Training: 100%|██████████| 3/3 [00:21<00:00,  7.23s/it]\n",
            "Validation: 100%|██████████| 1/1 [00:04<00:00,  4.99s/it]\n"
          ]
        },
        {
          "output_type": "stream",
          "name": "stdout",
          "text": [
            "Train Loss: 2.0242 | Val Loss: 2.0378 | Val Dice: nan\n",
            "\n",
            "Epoch 82/100\n"
          ]
        },
        {
          "output_type": "stream",
          "name": "stderr",
          "text": [
            "Training: 100%|██████████| 3/3 [00:21<00:00,  7.03s/it]\n",
            "Validation: 100%|██████████| 1/1 [00:05<00:00,  5.05s/it]\n"
          ]
        },
        {
          "output_type": "stream",
          "name": "stdout",
          "text": [
            "Train Loss: 2.0361 | Val Loss: 2.0389 | Val Dice: nan\n",
            "\n",
            "Epoch 83/100\n"
          ]
        },
        {
          "output_type": "stream",
          "name": "stderr",
          "text": [
            "Training: 100%|██████████| 3/3 [00:20<00:00,  6.98s/it]\n",
            "Validation: 100%|██████████| 1/1 [00:05<00:00,  5.06s/it]\n"
          ]
        },
        {
          "output_type": "stream",
          "name": "stdout",
          "text": [
            "Train Loss: 2.0214 | Val Loss: 2.0395 | Val Dice: nan\n",
            "\n",
            "Epoch 84/100\n"
          ]
        },
        {
          "output_type": "stream",
          "name": "stderr",
          "text": [
            "Training: 100%|██████████| 3/3 [00:20<00:00,  6.99s/it]\n",
            "Validation: 100%|██████████| 1/1 [00:05<00:00,  5.11s/it]\n"
          ]
        },
        {
          "output_type": "stream",
          "name": "stdout",
          "text": [
            "Train Loss: 2.0350 | Val Loss: 2.0381 | Val Dice: nan\n",
            "\n",
            "Epoch 85/100\n"
          ]
        },
        {
          "output_type": "stream",
          "name": "stderr",
          "text": [
            "Training: 100%|██████████| 3/3 [00:20<00:00,  6.87s/it]\n",
            "Validation: 100%|██████████| 1/1 [00:05<00:00,  5.20s/it]\n"
          ]
        },
        {
          "output_type": "stream",
          "name": "stdout",
          "text": [
            "Train Loss: 2.0204 | Val Loss: 2.0351 | Val Dice: nan\n",
            "\n",
            "Epoch 86/100\n"
          ]
        },
        {
          "output_type": "stream",
          "name": "stderr",
          "text": [
            "Training: 100%|██████████| 3/3 [00:21<00:00,  7.04s/it]\n",
            "Validation: 100%|██████████| 1/1 [00:05<00:00,  5.00s/it]\n"
          ]
        },
        {
          "output_type": "stream",
          "name": "stdout",
          "text": [
            "Train Loss: 2.0185 | Val Loss: 2.0327 | Val Dice: nan\n",
            "\n",
            "Epoch 87/100\n"
          ]
        },
        {
          "output_type": "stream",
          "name": "stderr",
          "text": [
            "Training: 100%|██████████| 3/3 [00:21<00:00,  7.09s/it]\n",
            "Validation: 100%|██████████| 1/1 [00:05<00:00,  5.37s/it]\n"
          ]
        },
        {
          "output_type": "stream",
          "name": "stdout",
          "text": [
            "Train Loss: 2.0278 | Val Loss: 2.0330 | Val Dice: nan\n",
            "\n",
            "Epoch 88/100\n"
          ]
        },
        {
          "output_type": "stream",
          "name": "stderr",
          "text": [
            "Training: 100%|██████████| 3/3 [00:20<00:00,  6.92s/it]\n",
            "Validation: 100%|██████████| 1/1 [00:05<00:00,  5.49s/it]\n"
          ]
        },
        {
          "output_type": "stream",
          "name": "stdout",
          "text": [
            "Train Loss: 2.0319 | Val Loss: 2.0331 | Val Dice: nan\n",
            "\n",
            "Epoch 89/100\n"
          ]
        },
        {
          "output_type": "stream",
          "name": "stderr",
          "text": [
            "Training: 100%|██████████| 3/3 [00:21<00:00,  7.04s/it]\n",
            "Validation: 100%|██████████| 1/1 [00:05<00:00,  5.04s/it]\n"
          ]
        },
        {
          "output_type": "stream",
          "name": "stdout",
          "text": [
            "Train Loss: 2.0241 | Val Loss: 2.0324 | Val Dice: nan\n",
            "\n",
            "Epoch 90/100\n"
          ]
        },
        {
          "output_type": "stream",
          "name": "stderr",
          "text": [
            "Training: 100%|██████████| 3/3 [00:20<00:00,  7.00s/it]\n",
            "Validation: 100%|██████████| 1/1 [00:04<00:00,  4.97s/it]\n"
          ]
        },
        {
          "output_type": "stream",
          "name": "stdout",
          "text": [
            "Train Loss: 2.0254 | Val Loss: 2.0285 | Val Dice: nan\n",
            "\n",
            "Epoch 91/100\n"
          ]
        },
        {
          "output_type": "stream",
          "name": "stderr",
          "text": [
            "Training: 100%|██████████| 3/3 [00:21<00:00,  7.24s/it]\n",
            "Validation: 100%|██████████| 1/1 [00:05<00:00,  5.06s/it]\n"
          ]
        },
        {
          "output_type": "stream",
          "name": "stdout",
          "text": [
            "Train Loss: 2.0126 | Val Loss: 2.0264 | Val Dice: nan\n",
            "\n",
            "Epoch 92/100\n"
          ]
        },
        {
          "output_type": "stream",
          "name": "stderr",
          "text": [
            "Training: 100%|██████████| 3/3 [00:21<00:00,  7.08s/it]\n",
            "Validation: 100%|██████████| 1/1 [00:05<00:00,  5.51s/it]\n"
          ]
        },
        {
          "output_type": "stream",
          "name": "stdout",
          "text": [
            "Train Loss: 2.0220 | Val Loss: 2.0271 | Val Dice: nan\n",
            "\n",
            "Epoch 93/100\n"
          ]
        },
        {
          "output_type": "stream",
          "name": "stderr",
          "text": [
            "Training: 100%|██████████| 3/3 [00:21<00:00,  7.08s/it]\n",
            "Validation: 100%|██████████| 1/1 [00:05<00:00,  5.53s/it]\n"
          ]
        },
        {
          "output_type": "stream",
          "name": "stdout",
          "text": [
            "Train Loss: 2.0105 | Val Loss: 2.0247 | Val Dice: nan\n",
            "\n",
            "Epoch 94/100\n"
          ]
        },
        {
          "output_type": "stream",
          "name": "stderr",
          "text": [
            "Training: 100%|██████████| 3/3 [00:21<00:00,  7.09s/it]\n",
            "Validation: 100%|██████████| 1/1 [00:05<00:00,  5.48s/it]\n"
          ]
        },
        {
          "output_type": "stream",
          "name": "stdout",
          "text": [
            "Train Loss: 2.0081 | Val Loss: 2.0228 | Val Dice: nan\n",
            "\n",
            "Epoch 95/100\n"
          ]
        },
        {
          "output_type": "stream",
          "name": "stderr",
          "text": [
            "Training: 100%|██████████| 3/3 [00:21<00:00,  7.19s/it]\n",
            "Validation: 100%|██████████| 1/1 [00:05<00:00,  5.19s/it]\n"
          ]
        },
        {
          "output_type": "stream",
          "name": "stdout",
          "text": [
            "Train Loss: 2.0085 | Val Loss: 2.0232 | Val Dice: nan\n",
            "\n",
            "Epoch 96/100\n"
          ]
        },
        {
          "output_type": "stream",
          "name": "stderr",
          "text": [
            "Training: 100%|██████████| 3/3 [00:21<00:00,  7.22s/it]\n",
            "Validation: 100%|██████████| 1/1 [00:05<00:00,  5.02s/it]\n"
          ]
        },
        {
          "output_type": "stream",
          "name": "stdout",
          "text": [
            "Train Loss: 2.0228 | Val Loss: 2.0206 | Val Dice: nan\n",
            "\n",
            "Epoch 97/100\n"
          ]
        },
        {
          "output_type": "stream",
          "name": "stderr",
          "text": [
            "Training: 100%|██████████| 3/3 [00:20<00:00,  6.95s/it]\n",
            "Validation: 100%|██████████| 1/1 [00:05<00:00,  5.18s/it]\n"
          ]
        },
        {
          "output_type": "stream",
          "name": "stdout",
          "text": [
            "Train Loss: 2.0161 | Val Loss: 2.0203 | Val Dice: nan\n",
            "\n",
            "Epoch 98/100\n"
          ]
        },
        {
          "output_type": "stream",
          "name": "stderr",
          "text": [
            "Training: 100%|██████████| 3/3 [00:21<00:00,  7.32s/it]\n",
            "Validation: 100%|██████████| 1/1 [00:05<00:00,  5.16s/it]\n"
          ]
        },
        {
          "output_type": "stream",
          "name": "stdout",
          "text": [
            "Train Loss: 2.0044 | Val Loss: 2.0194 | Val Dice: nan\n",
            "\n",
            "Epoch 99/100\n"
          ]
        },
        {
          "output_type": "stream",
          "name": "stderr",
          "text": [
            "Training: 100%|██████████| 3/3 [00:20<00:00,  6.90s/it]\n",
            "Validation: 100%|██████████| 1/1 [00:04<00:00,  4.99s/it]\n"
          ]
        },
        {
          "output_type": "stream",
          "name": "stdout",
          "text": [
            "Train Loss: 2.0193 | Val Loss: 2.0187 | Val Dice: nan\n",
            "\n",
            "Epoch 100/100\n"
          ]
        },
        {
          "output_type": "stream",
          "name": "stderr",
          "text": [
            "Training: 100%|██████████| 3/3 [00:21<00:00,  7.03s/it]\n",
            "Validation: 100%|██████████| 1/1 [00:05<00:00,  5.12s/it]"
          ]
        },
        {
          "output_type": "stream",
          "name": "stdout",
          "text": [
            "Train Loss: 2.0111 | Val Loss: 2.0193 | Val Dice: nan\n"
          ]
        },
        {
          "output_type": "stream",
          "name": "stderr",
          "text": [
            "\n"
          ]
        }
      ],
      "source": [
        "def main():\n",
        "    Config.save('config.json')\n",
        "\n",
        "    # Get patient directories\n",
        "    patient_dirs = get_patient_dirs(Config.data_dir)\n",
        "    train_dirs, val_dirs = train_test_split(patient_dirs, test_size=0.2, random_state=42)\n",
        "\n",
        "    # Create datasets\n",
        "    train_dataset = BraTSAfricaDataset(train_dirs, 'train')\n",
        "    val_dataset = BraTSAfricaDataset(val_dirs, 'val')\n",
        "\n",
        "    # Create dataloaders\n",
        "    train_loader = DataLoader(\n",
        "        train_dataset,\n",
        "        batch_size=Config.batch_size,\n",
        "        shuffle=True,\n",
        "        num_workers=4,\n",
        "        pin_memory=True\n",
        "    )\n",
        "    val_loader = DataLoader(\n",
        "        val_dataset,\n",
        "        batch_size=Config.batch_size,\n",
        "        shuffle=False,\n",
        "        num_workers=4,\n",
        "        pin_memory=True\n",
        "    )\n",
        "\n",
        "    # Initialize model\n",
        "    model = UNet3D(in_channels=4, out_channels=Config.num_classes).to(Config.device)\n",
        "    optimizer = torch.optim.Adam(model.parameters(), lr=Config.learning_rate)\n",
        "    loss_fn = DiceCELoss(\n",
        "        include_background=False,\n",
        "        to_onehot_y=True,\n",
        "        softmax=True,\n",
        "        lambda_dice=1.0,\n",
        "        lambda_ce=1.0\n",
        "    )\n",
        "\n",
        "    # Training loop\n",
        "    best_dice = 0.0\n",
        "    for epoch in range(Config.epochs):\n",
        "        print(f\"\\nEpoch {epoch+1}/{Config.epochs}\")\n",
        "\n",
        "        train_loss = train(model, train_loader, optimizer, loss_fn, Config.device)\n",
        "        val_loss, val_dice = validate(model, val_loader, loss_fn, Config.device)\n",
        "\n",
        "        print(f\"Train Loss: {train_loss:.4f} | Val Loss: {val_loss:.4f} | Val Dice: {val_dice:.4f}\")\n",
        "\n",
        "        if val_dice > best_dice:\n",
        "            best_dice = val_dice\n",
        "            torch.save(model.state_dict(), 'best_model.pth')\n",
        "            print(f\"Saved new best model with Dice: {best_dice:.4f}\")\n",
        "\n",
        "if __name__ == \"__main__\":\n",
        "    main()"
      ]
    },
    {
      "cell_type": "code",
      "source": [
        "import torch\n",
        "import nibabel as nib\n",
        "import numpy as np\n",
        "from monai.inferers import sliding_window_inference\n",
        "import os\n",
        "\n",
        "class BraTSInferencePipeline:\n",
        "    def __init__(self, model_path, config):\n",
        "        \"\"\"\n",
        "        Initialize the inference pipeline\n",
        "\n",
        "        Args:\n",
        "            model_path: Path to trained model weights (.pth)\n",
        "            config: Configuration dictionary with parameters\n",
        "        \"\"\"\n",
        "        self.device = torch.device(config['device'])\n",
        "        self.img_size = config['img_size']\n",
        "        self.num_classes = config['num_classes']\n",
        "\n",
        "        # Load model\n",
        "        self.model = UNet3D(in_channels=4, out_channels=self.num_classes).to(self.device)\n",
        "        self.model.load_state_dict(torch.load(model_path))\n",
        "        self.model.eval()\n",
        "\n",
        "        # Inference parameters\n",
        "        self.sw_batch_size = 2\n",
        "        self.roi_size = config['img_size']\n",
        "        self.overlap = 0.5\n",
        "\n",
        "    def preprocess(self, patient_dir):\n",
        "        \"\"\"\n",
        "        Load and preprocess a patient's MRI volumes\n",
        "\n",
        "        Args:\n",
        "            patient_dir: Path to patient directory containing:\n",
        "                - {patient_id}-t1n.nii.gz\n",
        "                - {patient_id}-t1c.nii.gz\n",
        "                - {patient_id}-t2w.nii.gz\n",
        "                - {patient_id}-t2f.nii.gz\n",
        "\n",
        "        Returns:\n",
        "            torch.Tensor: Preprocessed image tensor (1, 4, D, H, W)\n",
        "            nibabel.Nifti1Image: Original image for reference\n",
        "        \"\"\"\n",
        "        patient_id = os.path.basename(patient_dir)\n",
        "        modalities = []\n",
        "\n",
        "        # Load each modality\n",
        "        for mod in ['t1n', 't1c', 't2w', 't2f']:\n",
        "            img_path = os.path.join(patient_dir, f\"{patient_id}-{mod}.nii.gz\")\n",
        "            img = nib.load(img_path)\n",
        "            data = img.get_fdata()\n",
        "\n",
        "            # Normalize and resize\n",
        "            data = self._normalize(data)\n",
        "            data = self._crop_or_pad(data, self.img_size)\n",
        "            modalities.append(data)\n",
        "\n",
        "        # Stack modalities and add batch dimension\n",
        "        image = np.stack(modalities, axis=0)  # (4, D, H, W)\n",
        "        image = torch.from_numpy(image).float().unsqueeze(0)  # (1, 4, D, H, W)\n",
        "\n",
        "        return image.to(self.device), img\n",
        "\n",
        "    def _normalize(self, data):\n",
        "        \"\"\"Z-score normalization\"\"\"\n",
        "        return (data - data.mean()) / (data.std() + 1e-8)\n",
        "\n",
        "    def _crop_or_pad(self, data, target_shape):\n",
        "        \"\"\"Center crop or pad to target shape\"\"\"\n",
        "        current_shape = data.shape\n",
        "        new_data = np.zeros(target_shape, dtype=data.dtype)\n",
        "\n",
        "        # Calculate crop/pad dimensions\n",
        "        starts = [max(0, (current_shape[i] - target_shape[i]) // 2) for i in range(3)]\n",
        "        ends = [min(current_shape[i], starts[i] + target_shape[i]) for i in range(3)]\n",
        "\n",
        "        t_starts = [max(0, (target_shape[i] - current_shape[i]) // 2) for i in range(3)]\n",
        "        t_ends = [min(target_shape[i], t_starts[i] + current_shape[i]) for i in range(3)]\n",
        "\n",
        "        new_data[t_starts[0]:t_ends[0],\n",
        "                 t_starts[1]:t_ends[1],\n",
        "                 t_starts[2]:t_ends[2]] = data[starts[0]:ends[0],\n",
        "                                              starts[1]:ends[1],\n",
        "                                              starts[2]:ends[2]]\n",
        "        return new_data\n",
        "\n",
        "    def predict(self, image_tensor):\n",
        "        \"\"\"\n",
        "        Run inference on preprocessed image\n",
        "\n",
        "        Args:\n",
        "            image_tensor: Input tensor (1, 4, D, H, W)\n",
        "\n",
        "        Returns:\n",
        "            np.ndarray: Predicted segmentation (D, H, W)\n",
        "        \"\"\"\n",
        "        with torch.no_grad():\n",
        "            # Use sliding window for large volumes\n",
        "            output = sliding_window_inference(\n",
        "                inputs=image_tensor,\n",
        "                roi_size=self.roi_size,\n",
        "                sw_batch_size=self.sw_batch_size,\n",
        "                predictor=self.model,\n",
        "                overlap=self.overlap,\n",
        "                mode='gaussian'\n",
        "            )\n",
        "\n",
        "        # Convert to discrete labels\n",
        "        pred = torch.argmax(output, dim=1).squeeze().cpu().numpy()\n",
        "        return pred\n",
        "\n",
        "    def postprocess(self, prediction, reference_nifti):\n",
        "        \"\"\"\n",
        "        Convert prediction to BraTS format and create NIfTI\n",
        "\n",
        "        Args:\n",
        "            prediction: (D, H, W) integer array\n",
        "            reference_nifti: Original NIfTI image for header\n",
        "\n",
        "        Returns:\n",
        "            nibabel.Nifti1Image: Segmentation in BraTS format\n",
        "        \"\"\"\n",
        "        # Convert classes back to BraTS labels\n",
        "        brats_pred = np.zeros_like(prediction, dtype=np.uint8)\n",
        "        brats_pred[prediction == 1] = 4  # ET\n",
        "        brats_pred[prediction == 2] = 1  # TC (necrotic)\n",
        "        brats_pred[prediction == 3] = 2  # WT (edema)\n",
        "\n",
        "        return nib.Nifti1Image(brats_pred, reference_nifti.affine, reference_nifti.header)\n",
        "\n",
        "    def process_patient(self, patient_dir, output_dir=None):\n",
        "        \"\"\"\n",
        "        Complete pipeline for one patient\n",
        "\n",
        "        Args:\n",
        "            patient_dir: Path to patient data\n",
        "            output_dir: Where to save segmentation (optional)\n",
        "\n",
        "        Returns:\n",
        "            tuple: (prediction_array, nifti_image)\n",
        "        \"\"\"\n",
        "        # 1. Preprocess\n",
        "        image_tensor, reference_nifti = self.preprocess(patient_dir)\n",
        "\n",
        "        # 2. Predict\n",
        "        pred = self.predict(image_tensor)\n",
        "\n",
        "        # 3. Postprocess\n",
        "        seg_nifti = self.postprocess(pred, reference_nifti)\n",
        "\n",
        "        # 4. Save if needed\n",
        "        if output_dir:\n",
        "            os.makedirs(output_dir, exist_ok=True)\n",
        "            patient_id = os.path.basename(patient_dir)\n",
        "            output_path = os.path.join(output_dir, f\"{patient_id}-seg.nii.gz\")\n",
        "            nib.save(seg_nifti, output_path)\n",
        "            print(f\"Saved segmentation to {output_path}\")\n",
        "\n",
        "        return pred, seg_nifti\n",
        "\n",
        "\n",
        "# Example Usage\n",
        "if __name__ == \"__main__\":\n",
        "    # Load your saved config\n",
        "    config = {\n",
        "        'device': 'cuda' if torch.cuda.is_available() else 'cpu',\n",
        "        'img_size': (128, 128, 128),\n",
        "        'num_classes': 4\n",
        "    }\n",
        "\n",
        "    # Initialize pipeline\n",
        "    pipeline = BraTSInferencePipeline(\n",
        "        model_path=\"best_model.pth\",\n",
        "        config=config\n",
        "    )\n",
        "\n",
        "    # Process a patient\n",
        "    patient_dir = \"/content/drive/MyDrive/BraTS-Africa/95_Glioma/BraTS-SSA-00002-000\"\n",
        "    prediction, seg_nifti = pipeline.process_patient(\n",
        "        patient_dir,\n",
        "        output_dir=\"./output_segmentations\"\n",
        "    )\n",
        "\n",
        "    # Visualize slices\n",
        "    import matplotlib.pyplot as plt\n",
        "    plt.imshow(prediction[64], cmap='jet')  # Show middle slice\n",
        "    plt.show()"
      ],
      "metadata": {
        "colab": {
          "base_uri": "https://localhost:8080/",
          "height": 368
        },
        "id": "Jh9iIjL42vGL",
        "outputId": "7fefe394-d10e-4e08-c87a-40d5fd6e71b2"
      },
      "execution_count": 20,
      "outputs": [
        {
          "output_type": "error",
          "ename": "FileNotFoundError",
          "evalue": "[Errno 2] No such file or directory: 'best_model.pth'",
          "traceback": [
            "\u001b[0;31m---------------------------------------------------------------------------\u001b[0m",
            "\u001b[0;31mFileNotFoundError\u001b[0m                         Traceback (most recent call last)",
            "\u001b[0;32m/tmp/ipython-input-3807761465.py\u001b[0m in \u001b[0;36m<cell line: 0>\u001b[0;34m()\u001b[0m\n\u001b[1;32m    171\u001b[0m \u001b[0;34m\u001b[0m\u001b[0m\n\u001b[1;32m    172\u001b[0m     \u001b[0;31m# Initialize pipeline\u001b[0m\u001b[0;34m\u001b[0m\u001b[0;34m\u001b[0m\u001b[0m\n\u001b[0;32m--> 173\u001b[0;31m     pipeline = BraTSInferencePipeline(\n\u001b[0m\u001b[1;32m    174\u001b[0m         \u001b[0mmodel_path\u001b[0m\u001b[0;34m=\u001b[0m\u001b[0;34m\"best_model.pth\"\u001b[0m\u001b[0;34m,\u001b[0m\u001b[0;34m\u001b[0m\u001b[0;34m\u001b[0m\u001b[0m\n\u001b[1;32m    175\u001b[0m         \u001b[0mconfig\u001b[0m\u001b[0;34m=\u001b[0m\u001b[0mconfig\u001b[0m\u001b[0;34m\u001b[0m\u001b[0;34m\u001b[0m\u001b[0m\n",
            "\u001b[0;32m/tmp/ipython-input-3807761465.py\u001b[0m in \u001b[0;36m__init__\u001b[0;34m(self, model_path, config)\u001b[0m\n\u001b[1;32m     20\u001b[0m         \u001b[0;31m# Load model\u001b[0m\u001b[0;34m\u001b[0m\u001b[0;34m\u001b[0m\u001b[0m\n\u001b[1;32m     21\u001b[0m         \u001b[0mself\u001b[0m\u001b[0;34m.\u001b[0m\u001b[0mmodel\u001b[0m \u001b[0;34m=\u001b[0m \u001b[0mUNet3D\u001b[0m\u001b[0;34m(\u001b[0m\u001b[0min_channels\u001b[0m\u001b[0;34m=\u001b[0m\u001b[0;36m4\u001b[0m\u001b[0;34m,\u001b[0m \u001b[0mout_channels\u001b[0m\u001b[0;34m=\u001b[0m\u001b[0mself\u001b[0m\u001b[0;34m.\u001b[0m\u001b[0mnum_classes\u001b[0m\u001b[0;34m)\u001b[0m\u001b[0;34m.\u001b[0m\u001b[0mto\u001b[0m\u001b[0;34m(\u001b[0m\u001b[0mself\u001b[0m\u001b[0;34m.\u001b[0m\u001b[0mdevice\u001b[0m\u001b[0;34m)\u001b[0m\u001b[0;34m\u001b[0m\u001b[0;34m\u001b[0m\u001b[0m\n\u001b[0;32m---> 22\u001b[0;31m         \u001b[0mself\u001b[0m\u001b[0;34m.\u001b[0m\u001b[0mmodel\u001b[0m\u001b[0;34m.\u001b[0m\u001b[0mload_state_dict\u001b[0m\u001b[0;34m(\u001b[0m\u001b[0mtorch\u001b[0m\u001b[0;34m.\u001b[0m\u001b[0mload\u001b[0m\u001b[0;34m(\u001b[0m\u001b[0mmodel_path\u001b[0m\u001b[0;34m)\u001b[0m\u001b[0;34m)\u001b[0m\u001b[0;34m\u001b[0m\u001b[0;34m\u001b[0m\u001b[0m\n\u001b[0m\u001b[1;32m     23\u001b[0m         \u001b[0mself\u001b[0m\u001b[0;34m.\u001b[0m\u001b[0mmodel\u001b[0m\u001b[0;34m.\u001b[0m\u001b[0meval\u001b[0m\u001b[0;34m(\u001b[0m\u001b[0;34m)\u001b[0m\u001b[0;34m\u001b[0m\u001b[0;34m\u001b[0m\u001b[0m\n\u001b[1;32m     24\u001b[0m \u001b[0;34m\u001b[0m\u001b[0m\n",
            "\u001b[0;32m/usr/local/lib/python3.11/dist-packages/torch/serialization.py\u001b[0m in \u001b[0;36mload\u001b[0;34m(f, map_location, pickle_module, weights_only, mmap, **pickle_load_args)\u001b[0m\n\u001b[1;32m   1423\u001b[0m         \u001b[0mpickle_load_args\u001b[0m\u001b[0;34m[\u001b[0m\u001b[0;34m\"encoding\"\u001b[0m\u001b[0;34m]\u001b[0m \u001b[0;34m=\u001b[0m \u001b[0;34m\"utf-8\"\u001b[0m\u001b[0;34m\u001b[0m\u001b[0;34m\u001b[0m\u001b[0m\n\u001b[1;32m   1424\u001b[0m \u001b[0;34m\u001b[0m\u001b[0m\n\u001b[0;32m-> 1425\u001b[0;31m     \u001b[0;32mwith\u001b[0m \u001b[0m_open_file_like\u001b[0m\u001b[0;34m(\u001b[0m\u001b[0mf\u001b[0m\u001b[0;34m,\u001b[0m \u001b[0;34m\"rb\"\u001b[0m\u001b[0;34m)\u001b[0m \u001b[0;32mas\u001b[0m \u001b[0mopened_file\u001b[0m\u001b[0;34m:\u001b[0m\u001b[0;34m\u001b[0m\u001b[0;34m\u001b[0m\u001b[0m\n\u001b[0m\u001b[1;32m   1426\u001b[0m         \u001b[0;32mif\u001b[0m \u001b[0m_is_zipfile\u001b[0m\u001b[0;34m(\u001b[0m\u001b[0mopened_file\u001b[0m\u001b[0;34m)\u001b[0m\u001b[0;34m:\u001b[0m\u001b[0;34m\u001b[0m\u001b[0;34m\u001b[0m\u001b[0m\n\u001b[1;32m   1427\u001b[0m             \u001b[0;31m# The zipfile reader is going to advance the current file position.\u001b[0m\u001b[0;34m\u001b[0m\u001b[0;34m\u001b[0m\u001b[0m\n",
            "\u001b[0;32m/usr/local/lib/python3.11/dist-packages/torch/serialization.py\u001b[0m in \u001b[0;36m_open_file_like\u001b[0;34m(name_or_buffer, mode)\u001b[0m\n\u001b[1;32m    749\u001b[0m \u001b[0;32mdef\u001b[0m \u001b[0m_open_file_like\u001b[0m\u001b[0;34m(\u001b[0m\u001b[0mname_or_buffer\u001b[0m\u001b[0;34m,\u001b[0m \u001b[0mmode\u001b[0m\u001b[0;34m)\u001b[0m\u001b[0;34m:\u001b[0m\u001b[0;34m\u001b[0m\u001b[0;34m\u001b[0m\u001b[0m\n\u001b[1;32m    750\u001b[0m     \u001b[0;32mif\u001b[0m \u001b[0m_is_path\u001b[0m\u001b[0;34m(\u001b[0m\u001b[0mname_or_buffer\u001b[0m\u001b[0;34m)\u001b[0m\u001b[0;34m:\u001b[0m\u001b[0;34m\u001b[0m\u001b[0;34m\u001b[0m\u001b[0m\n\u001b[0;32m--> 751\u001b[0;31m         \u001b[0;32mreturn\u001b[0m \u001b[0m_open_file\u001b[0m\u001b[0;34m(\u001b[0m\u001b[0mname_or_buffer\u001b[0m\u001b[0;34m,\u001b[0m \u001b[0mmode\u001b[0m\u001b[0;34m)\u001b[0m\u001b[0;34m\u001b[0m\u001b[0;34m\u001b[0m\u001b[0m\n\u001b[0m\u001b[1;32m    752\u001b[0m     \u001b[0;32melse\u001b[0m\u001b[0;34m:\u001b[0m\u001b[0;34m\u001b[0m\u001b[0;34m\u001b[0m\u001b[0m\n\u001b[1;32m    753\u001b[0m         \u001b[0;32mif\u001b[0m \u001b[0;34m\"w\"\u001b[0m \u001b[0;32min\u001b[0m \u001b[0mmode\u001b[0m\u001b[0;34m:\u001b[0m\u001b[0;34m\u001b[0m\u001b[0;34m\u001b[0m\u001b[0m\n",
            "\u001b[0;32m/usr/local/lib/python3.11/dist-packages/torch/serialization.py\u001b[0m in \u001b[0;36m__init__\u001b[0;34m(self, name, mode)\u001b[0m\n\u001b[1;32m    730\u001b[0m \u001b[0;32mclass\u001b[0m \u001b[0m_open_file\u001b[0m\u001b[0;34m(\u001b[0m\u001b[0m_opener\u001b[0m\u001b[0;34m)\u001b[0m\u001b[0;34m:\u001b[0m\u001b[0;34m\u001b[0m\u001b[0;34m\u001b[0m\u001b[0m\n\u001b[1;32m    731\u001b[0m     \u001b[0;32mdef\u001b[0m \u001b[0m__init__\u001b[0m\u001b[0;34m(\u001b[0m\u001b[0mself\u001b[0m\u001b[0;34m,\u001b[0m \u001b[0mname\u001b[0m\u001b[0;34m,\u001b[0m \u001b[0mmode\u001b[0m\u001b[0;34m)\u001b[0m\u001b[0;34m:\u001b[0m\u001b[0;34m\u001b[0m\u001b[0;34m\u001b[0m\u001b[0m\n\u001b[0;32m--> 732\u001b[0;31m         \u001b[0msuper\u001b[0m\u001b[0;34m(\u001b[0m\u001b[0;34m)\u001b[0m\u001b[0;34m.\u001b[0m\u001b[0m__init__\u001b[0m\u001b[0;34m(\u001b[0m\u001b[0mopen\u001b[0m\u001b[0;34m(\u001b[0m\u001b[0mname\u001b[0m\u001b[0;34m,\u001b[0m \u001b[0mmode\u001b[0m\u001b[0;34m)\u001b[0m\u001b[0;34m)\u001b[0m\u001b[0;34m\u001b[0m\u001b[0;34m\u001b[0m\u001b[0m\n\u001b[0m\u001b[1;32m    733\u001b[0m \u001b[0;34m\u001b[0m\u001b[0m\n\u001b[1;32m    734\u001b[0m     \u001b[0;32mdef\u001b[0m \u001b[0m__exit__\u001b[0m\u001b[0;34m(\u001b[0m\u001b[0mself\u001b[0m\u001b[0;34m,\u001b[0m \u001b[0;34m*\u001b[0m\u001b[0margs\u001b[0m\u001b[0;34m)\u001b[0m\u001b[0;34m:\u001b[0m\u001b[0;34m\u001b[0m\u001b[0;34m\u001b[0m\u001b[0m\n",
            "\u001b[0;31mFileNotFoundError\u001b[0m: [Errno 2] No such file or directory: 'best_model.pth'"
          ]
        }
      ]
    },
    {
      "cell_type": "code",
      "source": [],
      "metadata": {
        "id": "CNK5E0JS24wS"
      },
      "execution_count": null,
      "outputs": []
    }
  ],
  "metadata": {
    "kernelspec": {
      "display_name": "Python 3",
      "name": "python3"
    },
    "language_info": {
      "codemirror_mode": {
        "name": "ipython",
        "version": 3
      },
      "file_extension": ".py",
      "mimetype": "text/x-python",
      "name": "python",
      "nbconvert_exporter": "python",
      "pygments_lexer": "ipython3",
      "version": "3.8.5"
    },
    "colab": {
      "provenance": [],
      "machine_shape": "hm",
      "gpuType": "V6E1",
      "include_colab_link": true
    },
    "accelerator": "TPU"
  },
  "nbformat": 4,
  "nbformat_minor": 0
}